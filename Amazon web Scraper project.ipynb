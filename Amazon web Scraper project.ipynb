{
 "cells": [
  {
   "cell_type": "code",
   "execution_count": null,
   "id": "0ba5de23-5efe-4304-a530-730a84aadcf0",
   "metadata": {},
   "outputs": [],
   "source": [
    "#import libraries"
   ]
  },
  {
   "cell_type": "code",
   "execution_count": null,
   "id": "a5d791eb-6d62-4647-bee2-b647f05a5c04",
   "metadata": {},
   "outputs": [],
   "source": [
    "from bs4 import BeautifulSoup\n",
    "import requests\n",
    "import time\n",
    "import datetime\n",
    "\n",
    "import smtplib"
   ]
  },
  {
   "cell_type": "code",
   "execution_count": null,
   "id": "0a73ee99-7a92-407f-af1e-1cd11cf5e94d",
   "metadata": {},
   "outputs": [],
   "source": [
    "#connect to website\n",
    "URL = 'https://www.amazon.com/Funny-Data-Systems-Business-Analyst/dp/B07FNW9FGJ/ref=sr_1_3?crid=3JO54VQYZQFRH&dib=eyJ2IjoiMSJ9.PM2zhQFx_lfPnddZwr05DvJ8zxTiKbMNof3H_8ObTesp3_KX2H1z7ter2F1NN30_3kWR_RTTOfz1onrgSvsiEPPuLmp8hyhmhm7umyNJLuLiOm8yUb34kshBKiAKh2LL-fFvKbPgK_l6eGv_KOCn_BqI3WtfIYR-L2SDT6eAbRymwh0HnpmNSC8U-TqUmAY7QiENC3LHwEIs2rSo6QBw5lutBYT6r3bLdCtjHJ0ONgEMkqeXAzDdhkGwP5xN16bNjoVVbZWuvWP6cWuFFr59qh7XYdKxD-XEAqYe88VT3UI.qVo12SqEDcWCZdSCDgmkliqo6R2r6H3h-2qmd7ON94c&dib_tag=se&keywords=data%2Banalyst%2Btshirt&qid=1719586712&sprefix=data%2Banalyst%2B%2Caps%2C425&sr=8-3&customId=B07535Y9T6&customizationToken=MC_Assembly_1%23B07535Y9T6&th=1&psc=1'\n",
    "headers ={\"User-Agent\": \"Mozilla/5.0 (Windows NT 10.0; Win64; x64) AppleWebKit/537.36 (KHTML, like Gecko) Chrome/125.0.0.0 Safari/537.36 Avast/125.0.0.0\",\"Accept-Encoding\": \"gzip, deflate, br, zstd\",\"Accept\": \"text/html,application/xhtml+xml,application/xml;q=0.9,image/avif,image/webp,image/apng,*/*;q=0.8,application/signed-exchange;v=b3;q=0.7\",\"Upgrade-Insecure-Requests\": \"1\" }\n",
    "page = requests.get(URL, headers=headers)\n",
    "soup1 = BeautifulSoup(page.content, \"html.parser\")\n",
    "\n",
    "print(soup1)"
   ]
  },
  {
   "cell_type": "code",
   "execution_count": null,
   "id": "a2fc913c-fc53-4bbe-bd9a-89402fac07c1",
   "metadata": {},
   "outputs": [],
   "source": [
    "soup2 = BeautifulSoup(soup1.prettify(),\"html.parser\")\n",
    "print(soup2)"
   ]
  },
  {
   "cell_type": "code",
   "execution_count": null,
   "id": "7b615900-b950-40dc-ad5b-494813358f22",
   "metadata": {},
   "outputs": [],
   "source": [
    "title = soup2.find(id='productTitle').get_text()\n",
    "print(title)"
   ]
  },
  {
   "cell_type": "code",
   "execution_count": null,
   "id": "f3e8c000-60e2-42fd-91f6-a9d5029048e5",
   "metadata": {},
   "outputs": [],
   "source": [
    "soup2.find_all(['span','id'])"
   ]
  },
  {
   "cell_type": "code",
   "execution_count": null,
   "id": "9f41b761-5eeb-4eac-93a2-fb829d5c3335",
   "metadata": {},
   "outputs": [],
   "source": [
    "price= soup2.find(id=\"tp-tool-tip-subtotal-price-value\").get_text()\n",
    "print(price)"
   ]
  },
  {
   "cell_type": "code",
   "execution_count": null,
   "id": "944d45d5-ed67-4a98-b593-13b6ca5f56e3",
   "metadata": {},
   "outputs": [],
   "source": [
    "title=title.strip()\n",
    "price= price.strip()[1:]\n",
    "\n",
    "print(title)\n",
    "print(price)"
   ]
  },
  {
   "cell_type": "code",
   "execution_count": null,
   "id": "1a7ce974-3bd4-4544-bce0-d52974cf12c5",
   "metadata": {},
   "outputs": [],
   "source": [
    "import datetime\n",
    "today=datetime.date.today()\n",
    "print(today)"
   ]
  },
  {
   "cell_type": "code",
   "execution_count": null,
   "id": "465e3f53-f8f8-4ecf-a38d-6b6616f396be",
   "metadata": {},
   "outputs": [],
   "source": [
    "import csv\n",
    "header= [\"Title\",\"Price\",\"Date\"]\n",
    "data=[title,price,today]\n",
    "\n",
    "with open('Amazonwebscraperdataset2.csv','w',newline='',encoding='UTF8') as f:\n",
    "    writer = csv.writer(f)\n",
    "    writer.writerow(header)\n",
    "    writer.writerow(data)"
   ]
  },
  {
   "cell_type": "code",
   "execution_count": null,
   "id": "3dcdc87c-e241-4e6a-baf0-e716a3049df9",
   "metadata": {},
   "outputs": [],
   "source": [
    "import pandas as pd\n",
    "df=pd.read_csv(r\"C:\\Users\\PC\\Amazonwebscraperdataset2.csv\")\n",
    "print(df)"
   ]
  },
  {
   "cell_type": "code",
   "execution_count": null,
   "id": "7b041951-56e8-4a15-ad4b-1332f1e84bf6",
   "metadata": {},
   "outputs": [],
   "source": [
    "#HOW TO APPEND DATA TO THE CSV\n",
    "with open('Amazonwebscraperdataset2.csv','a+',newline='',encoding='UTF8') as f:\n",
    "    writer = csv.writer(f)\n",
    "    writer.writerow(data)"
   ]
  },
  {
   "cell_type": "code",
   "execution_count": null,
   "id": "280786a0-f71a-4326-88a7-ea75f8ec7191",
   "metadata": {},
   "outputs": [],
   "source": [
    "def check_price():\n",
    "    URL = 'https://www.amazon.com/Funny-Data-Systems-Business-Analyst/dp/B07FNW9FGJ/ref=sr_1_3?crid=3JO54VQYZQFRH&dib=eyJ2IjoiMSJ9.PM2zhQFx_lfPnddZwr05DvJ8zxTiKbMNof3H_8ObTesp3_KX2H1z7ter2F1NN30_3kWR_RTTOfz1onrgSvsiEPPuLmp8hyhmhm7umyNJLuLiOm8yUb34kshBKiAKh2LL-fFvKbPgK_l6eGv_KOCn_BqI3WtfIYR-L2SDT6eAbRymwh0HnpmNSC8U-TqUmAY7QiENC3LHwEIs2rSo6QBw5lutBYT6r3bLdCtjHJ0ONgEMkqeXAzDdhkGwP5xN16bNjoVVbZWuvWP6cWuFFr59qh7XYdKxD-XEAqYe88VT3UI.qVo12SqEDcWCZdSCDgmkliqo6R2r6H3h-2qmd7ON94c&dib_tag=se&keywords=data%2Banalyst%2Btshirt&qid=1719586712&sprefix=data%2Banalyst%2B%2Caps%2C425&sr=8-3&customId=B07535Y9T6&customizationToken=MC_Assembly_1%23B07535Y9T6&th=1&psc=1'\n",
    "\n",
    "\n",
    "    headers ={\"User-Agent\": \"Mozilla/5.0 (Windows NT 10.0; Win64; x64) AppleWebKit/537.36 (KHTML, like Gecko) Chrome/125.0.0.0 Safari/537.36 Avast/125.0.0.0\",\"Accept-Encoding\": \"gzip, deflate, br, zstd\",\"Accept\": \"text/html,application/xhtml+xml,application/xml;q=0.9,image/avif,image/webp,image/apng,*/*;q=0.8,application/signed-exchange;v=b3;q=0.7\",\"Upgrade-Insecure-Requests\": \"1\" }\n",
    "\n",
    "    page = requests.get(URL, headers=headers)\n",
    "\n",
    "    soup1 = BeautifulSoup(page.content, \"html.parser\")\n",
    "\n",
    "    soup2 = BeautifulSoup(soup1.prettify(),\"html.parser\")\n",
    "\n",
    "    title = soup2.find(id='productTitle').get_text()\n",
    "\n",
    "    price= soup2.find(id=\"tp-tool-tip-subtotal-price-value\").get_text()\n",
    "\n",
    "    title=title.strip()\n",
    "    price= price.strip()[1:]\n",
    "\n",
    "    import datetime\n",
    "    today=datetime.date.today()\n",
    "\n",
    "    import csv\n",
    "    header= [\"Title\",\"Price\",\"Date\"]\n",
    "    data=[title,price,today]\n",
    "\n",
    "    with open('Amazonwebscraperdataset2.csv','a',newline='',encoding='UTF8') as f:\n",
    "        writer = csv.writer(f)\n",
    "        writer.writerow(data)\n",
    "        \n",
    "    if (price<$14):\n",
    "        send_mail()"
   ]
  },
  {
   "cell_type": "code",
   "execution_count": null,
   "id": "ddea3f9b-29f9-4ef3-bec6-e432103eec29",
   "metadata": {},
   "outputs": [],
   "source": [
    "while(True):\n",
    "    check_price()\n",
    "    time.sleep(86,500)"
   ]
  },
  {
   "cell_type": "code",
   "execution_count": null,
   "id": "7614c5e6-e304-4414-aa5b-bd61aeed078b",
   "metadata": {},
   "outputs": [],
   "source": [
    "import pandas as pd\n",
    "df=pd.read_csv(r\"C:\\Users\\PC\\Amazonwebscraperdataset2.csv\")\n",
    "print(df)"
   ]
  },
  {
   "cell_type": "code",
   "execution_count": null,
   "id": "d83022a7-609b-4301-8866-e2b4a92af673",
   "metadata": {},
   "outputs": [],
   "source": [
    "def send_mail():\n",
    "    server = smtplib.SMTP_SSL('smtp.gmail.com',465)\n",
    "    server.ehlo\n",
    "    #server.starttls()\n",
    "    server.ehlo()\n",
    "    server.login('maxilliamoraa@gmail.com','xxxxxxxxxxxx')\n",
    "    subject= \"the shirt you want to buy is now below $15. your chance to buy!\"\n",
    "    body= \"OFFER!\"\n",
    "    msg = f\"Subject:{subject}\\n\\n{body}\n",
    "\n",
    "    server.sendmail('maxilliamoraa@gmail.com', msg)"
   ]
  },
  {
   "cell_type": "code",
   "execution_count": null,
   "id": "076000f4-294a-48b7-bea2-2f42371ff7e3",
   "metadata": {},
   "outputs": [],
   "source": []
  },
  {
   "cell_type": "code",
   "execution_count": null,
   "id": "8c4388d5-bca2-482a-b6b9-9c849cc7dbf1",
   "metadata": {},
   "outputs": [],
   "source": []
  },
  {
   "cell_type": "code",
   "execution_count": null,
   "id": "bf204fa5-23be-43a3-944b-8e39ae5d065c",
   "metadata": {},
   "outputs": [],
   "source": []
  },
  {
   "cell_type": "code",
   "execution_count": null,
   "id": "4a2e0bc5-2aba-4466-94cb-aa83d2b13e76",
   "metadata": {},
   "outputs": [],
   "source": []
  },
  {
   "cell_type": "code",
   "execution_count": null,
   "id": "ed7b5800-dfa3-4a54-9eee-62c3c67a1171",
   "metadata": {},
   "outputs": [],
   "source": []
  },
  {
   "cell_type": "code",
   "execution_count": null,
   "id": "36cd8576-5ac7-4445-aaa7-6d8624bf2b32",
   "metadata": {},
   "outputs": [],
   "source": []
  },
  {
   "cell_type": "code",
   "execution_count": null,
   "id": "7c815b05-6b46-4645-941e-1b8304cc5f21",
   "metadata": {},
   "outputs": [],
   "source": []
  },
  {
   "cell_type": "code",
   "execution_count": null,
   "id": "dc91c810-a50b-4a4c-87d5-30106f02f390",
   "metadata": {},
   "outputs": [],
   "source": []
  },
  {
   "cell_type": "code",
   "execution_count": null,
   "id": "e0c8b3d2-9b33-4fa7-b884-c6fc597ba54b",
   "metadata": {},
   "outputs": [],
   "source": []
  },
  {
   "cell_type": "code",
   "execution_count": null,
   "id": "25551e6e-fe3f-484d-8da5-0da80a7358bb",
   "metadata": {},
   "outputs": [],
   "source": []
  },
  {
   "cell_type": "code",
   "execution_count": null,
   "id": "26e4d554-cfd0-476f-85d3-5129228e4749",
   "metadata": {},
   "outputs": [],
   "source": []
  },
  {
   "cell_type": "code",
   "execution_count": null,
   "id": "7733c74d-f3ca-4b80-b457-60891cd0fdcb",
   "metadata": {},
   "outputs": [],
   "source": []
  },
  {
   "cell_type": "code",
   "execution_count": null,
   "id": "4f0beef7-2241-467f-bc86-6570c2f96e4c",
   "metadata": {},
   "outputs": [],
   "source": []
  },
  {
   "cell_type": "code",
   "execution_count": null,
   "id": "f9dee3f6-1dcf-4a35-8838-7e71bdb4f1e0",
   "metadata": {},
   "outputs": [],
   "source": []
  },
  {
   "cell_type": "code",
   "execution_count": null,
   "id": "a4cddc52-2bd3-45f2-8106-fbc0413fa6e5",
   "metadata": {},
   "outputs": [],
   "source": []
  },
  {
   "cell_type": "code",
   "execution_count": null,
   "id": "4e25ae9c-c1db-4180-bc4d-254d3d69c6b5",
   "metadata": {},
   "outputs": [],
   "source": []
  },
  {
   "cell_type": "code",
   "execution_count": null,
   "id": "d7a95f78-5284-4efa-a6da-b3c4f2b1db5a",
   "metadata": {},
   "outputs": [],
   "source": []
  },
  {
   "cell_type": "code",
   "execution_count": null,
   "id": "f2ff08b6-96e9-4f30-8ce6-8be26b1857d9",
   "metadata": {},
   "outputs": [],
   "source": []
  },
  {
   "cell_type": "code",
   "execution_count": null,
   "id": "63993afa-89a7-411a-acaa-a9da1c59f01b",
   "metadata": {},
   "outputs": [],
   "source": []
  },
  {
   "cell_type": "code",
   "execution_count": null,
   "id": "c0b330c8-2db6-48d5-a486-8e153e608923",
   "metadata": {},
   "outputs": [],
   "source": []
  },
  {
   "cell_type": "code",
   "execution_count": null,
   "id": "ceef02ba-2d28-4d29-990f-20dd5d601ad8",
   "metadata": {},
   "outputs": [],
   "source": []
  },
  {
   "cell_type": "code",
   "execution_count": null,
   "id": "c8976eb0-c7ad-4abf-b2e2-0453abbe0028",
   "metadata": {},
   "outputs": [],
   "source": []
  },
  {
   "cell_type": "code",
   "execution_count": null,
   "id": "aee792d4-c3dd-4cab-aea1-cbdb5ff18f39",
   "metadata": {},
   "outputs": [],
   "source": []
  },
  {
   "cell_type": "code",
   "execution_count": null,
   "id": "923148c4-523d-4d85-9457-9495eaee190d",
   "metadata": {},
   "outputs": [],
   "source": []
  },
  {
   "cell_type": "code",
   "execution_count": null,
   "id": "8f838b3c-b9f2-4619-a503-eab070c33a87",
   "metadata": {},
   "outputs": [],
   "source": []
  },
  {
   "cell_type": "code",
   "execution_count": null,
   "id": "648fbb58-812d-4cb9-a7ae-c3702ea03b36",
   "metadata": {},
   "outputs": [],
   "source": []
  },
  {
   "cell_type": "code",
   "execution_count": null,
   "id": "16887f57-7f28-4a4a-bf61-1d4df7f9ac0d",
   "metadata": {},
   "outputs": [],
   "source": []
  },
  {
   "cell_type": "code",
   "execution_count": null,
   "id": "7a1316ae-858e-4615-bf16-48d634507f20",
   "metadata": {},
   "outputs": [],
   "source": []
  },
  {
   "cell_type": "code",
   "execution_count": null,
   "id": "5596b6ba-6979-450f-8d54-d08052eb433d",
   "metadata": {},
   "outputs": [],
   "source": []
  },
  {
   "cell_type": "code",
   "execution_count": null,
   "id": "583fb467-dbb3-4f7c-b396-422e9a5a741a",
   "metadata": {},
   "outputs": [],
   "source": []
  },
  {
   "cell_type": "code",
   "execution_count": null,
   "id": "1544dd6a-b4cc-4183-9108-f6655147f8a7",
   "metadata": {},
   "outputs": [],
   "source": []
  },
  {
   "cell_type": "code",
   "execution_count": null,
   "id": "24ee1434-3ec4-4b19-ba17-c0db1e688aeb",
   "metadata": {},
   "outputs": [],
   "source": []
  },
  {
   "cell_type": "code",
   "execution_count": null,
   "id": "f1a926a5-89a3-4a2b-8360-f27d35b2e7cf",
   "metadata": {},
   "outputs": [],
   "source": []
  },
  {
   "cell_type": "code",
   "execution_count": null,
   "id": "106704c0-b991-40b2-a77e-3a9e13b1996b",
   "metadata": {},
   "outputs": [],
   "source": []
  },
  {
   "cell_type": "code",
   "execution_count": null,
   "id": "8166f04a-d890-4232-9025-e29f57fd324d",
   "metadata": {},
   "outputs": [],
   "source": []
  },
  {
   "cell_type": "code",
   "execution_count": null,
   "id": "5e56472d-41fb-450a-b72e-9ab1e6b5a7fb",
   "metadata": {},
   "outputs": [],
   "source": []
  },
  {
   "cell_type": "code",
   "execution_count": null,
   "id": "67ec487d-bfae-4b14-9b0b-97fe2f10aa1d",
   "metadata": {},
   "outputs": [],
   "source": []
  },
  {
   "cell_type": "code",
   "execution_count": null,
   "id": "7863af74-eb95-4d0e-9cff-3091c0e5bac6",
   "metadata": {},
   "outputs": [],
   "source": []
  },
  {
   "cell_type": "code",
   "execution_count": null,
   "id": "7c923a29-b7b8-4afa-903b-dfb26ddb8d9f",
   "metadata": {},
   "outputs": [],
   "source": []
  },
  {
   "cell_type": "code",
   "execution_count": null,
   "id": "893cc4f8-d020-4a14-9cd5-4e2222422e19",
   "metadata": {},
   "outputs": [],
   "source": []
  },
  {
   "cell_type": "code",
   "execution_count": null,
   "id": "234be829-c1e3-472c-91e8-39939a6b58d0",
   "metadata": {},
   "outputs": [],
   "source": []
  },
  {
   "cell_type": "code",
   "execution_count": null,
   "id": "a9d1f7ff-e40e-421f-bc5a-58903fd44c6e",
   "metadata": {},
   "outputs": [],
   "source": []
  },
  {
   "cell_type": "code",
   "execution_count": null,
   "id": "3294ca76-7699-4606-9126-93cfe7692c15",
   "metadata": {},
   "outputs": [],
   "source": []
  },
  {
   "cell_type": "code",
   "execution_count": null,
   "id": "b40b9104-8fd1-4232-91ff-d126407baceb",
   "metadata": {},
   "outputs": [],
   "source": []
  },
  {
   "cell_type": "code",
   "execution_count": null,
   "id": "9d2a37f7-177a-40d9-b3af-f11245f3ee20",
   "metadata": {},
   "outputs": [],
   "source": []
  }
 ],
 "metadata": {
  "kernelspec": {
   "display_name": "FIRSTPROJECT",
   "language": "python",
   "name": "firstproject"
  },
  "language_info": {
   "codemirror_mode": {
    "name": "ipython",
    "version": 3
   },
   "file_extension": ".py",
   "mimetype": "text/x-python",
   "name": "python",
   "nbconvert_exporter": "python",
   "pygments_lexer": "ipython3",
   "version": "3.12.4"
  }
 },
 "nbformat": 4,
 "nbformat_minor": 5
}
